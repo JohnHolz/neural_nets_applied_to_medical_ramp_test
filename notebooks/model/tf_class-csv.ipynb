{
 "cells": [
  {
   "cell_type": "code",
   "execution_count": 1,
   "id": "dcaf9438-722f-4d8b-b38f-815137a655b9",
   "metadata": {},
   "outputs": [
    {
     "name": "stderr",
     "output_type": "stream",
     "text": [
      "2023-07-09 12:46:03.614117: I tensorflow/core/platform/cpu_feature_guard.cc:182] This TensorFlow binary is optimized to use available CPU instructions in performance-critical operations.\n",
      "To enable the following instructions: AVX2 FMA, in other operations, rebuild TensorFlow with the appropriate compiler flags.\n",
      "2023-07-09 12:46:04.159454: W tensorflow/compiler/tf2tensorrt/utils/py_utils.cc:38] TF-TRT Warning: Could not find TensorRT\n"
     ]
    }
   ],
   "source": [
    "from sklearn.model_selection import train_test_split\n",
    "from sklearn.metrics import classification_report,confusion_matrix\n",
    "#import os\n",
    "#os.environ['TF_CPP_MIN_LOG_LEVEL'] = '3' \n",
    "import tensorflow as tf, matplotlib.pyplot as plt, numpy as np, cv2\n",
    "\n",
    "import warnings\n",
    "warnings.filterwarnings('ignore')"
   ]
  },
  {
   "cell_type": "code",
   "execution_count": 2,
   "id": "3a9abed6-a11a-4feb-ae1a-ad9837618656",
   "metadata": {},
   "outputs": [],
   "source": [
    "## optimizer\n",
    "rms='rmsprop'\n",
    "adam='adam'\n",
    "\n",
    "## loss\n",
    "SPC = tf.keras.losses.SparseCategoricalCrossentropy(from_logits=True)\n",
    "CC = tf.keras.losses.CategoricalCrossentropy()\n",
    "BC = 'binary_crossentropy'\n",
    "MSE = 'mse'\n",
    "\n",
    "## last layer\n",
    "softmax = 'softmax'\n",
    "sigmoid = 'sigmoid'"
   ]
  },
  {
   "cell_type": "code",
   "execution_count": 3,
   "id": "cefbdf61-c73d-4493-bc04-96262de02518",
   "metadata": {},
   "outputs": [],
   "source": [
    "x_numpy = np.load(\"csv_x_data_random_y.npz\")['arr_0']\n",
    "y_label = np.load(\"csv_y_data_random_y.npz\")['arr_0']\n",
    "y = (y_label==True).astype(int)\n",
    "x_train, x_test, y_train, y_test = train_test_split(x_numpy,y,random_state=True,train_size=0.8,stratify=y)\n",
    "x_numpy = None\n",
    "y_label = None"
   ]
  },
  {
   "cell_type": "code",
   "execution_count": 12,
   "id": "2bb31cd9-0a77-4e82-ac21-dd561a60242a",
   "metadata": {},
   "outputs": [
    {
     "data": {
      "text/plain": [
       "<matplotlib.collections.PathCollection at 0x7f8ea4932f50>"
      ]
     },
     "execution_count": 12,
     "metadata": {},
     "output_type": "execute_result"
    },
    {
     "data": {
      "image/png": "[encoded data removed]",
      "text/plain": [
       "<Figure size 640x480 with 1 Axes>"
      ]
     },
     "metadata": {},
     "output_type": "display_data"
    }
   ],
   "source": [
    "plt.scatter(x_train[0,:,0],x_train[0,:,1])"
   ]
  },
  {
   "cell_type": "code",
   "execution_count": 101,
   "id": "aa342500-be4f-4800-932d-d74a5eabfc56",
   "metadata": {},
   "outputs": [],
   "source": [
    "from sklearn.utils.class_weight import compute_sample_weight"
   ]
  },
  {
   "cell_type": "code",
   "execution_count": 102,
   "id": "e74767a0-2835-4f0a-82bb-96fc998f9e52",
   "metadata": {},
   "outputs": [
    {
     "data": {
      "text/plain": [
       "(8800, 800, 2)"
      ]
     },
     "execution_count": 102,
     "metadata": {},
     "output_type": "execute_result"
    }
   ],
   "source": [
    "x_train.shape"
   ]
  },
  {
   "cell_type": "code",
   "execution_count": 111,
   "id": "b47b695e-f650-410d-9142-7db91a350b15",
   "metadata": {},
   "outputs": [],
   "source": [
    "input_shape=(800, 2)\n",
    "\n",
    "model = tf.keras.Sequential()\n",
    "model.add(tf.keras.layers.InputLayer(input_shape=input_shape))\n",
    "model.add(tf.keras.layers.LSTM(16,return_sequences=True))\n",
    "# model.add(tf.keras.layers.Dropout(0.2))\n",
    "model.add(tf.keras.layers.LSTM(8))\n",
    "# model.add(tf.keras.layers.Dropout(0.2))\n",
    "#model.add(tf.keras.layers.Dense(8, activation='relu'))\n",
    "#####\n",
    "model.add(tf.keras.layers.Dense(1, activation='sigmoid'))\n",
    "#model.compile(loss=MSE, optimizer=rms, metrics=['accuracy'])\n",
    "model.compile(loss=BC, optimizer=adam, metrics=['accuracy'])"
   ]
  },
  {
   "cell_type": "code",
   "execution_count": 112,
   "id": "aaaf20f2-70c0-4137-8a03-32f5e1bac216",
   "metadata": {},
   "outputs": [
    {
     "name": "stdout",
     "output_type": "stream",
     "text": [
      "Count Params: 2025 \n",
      " Summary:\n",
      "Model: \"sequential_13\"\n",
      "_________________________________________________________________\n",
      " Layer (type)                Output Shape              Param #   \n",
      "=================================================================\n",
      " lstm_26 (LSTM)              (None, 800, 16)           1216      \n",
      "                                                                 \n",
      " lstm_27 (LSTM)              (None, 8)                 800       \n",
      "                                                                 \n",
      " dense_23 (Dense)            (None, 1)                 9         \n",
      "                                                                 \n",
      "=================================================================\n",
      "Total params: 2,025\n",
      "Trainable params: 2,025\n",
      "Non-trainable params: 0\n",
      "_________________________________________________________________\n"
     ]
    }
   ],
   "source": [
    "print('Count Params:',model.count_params(),'\\n Summary:')\n",
    "model.summary()"
   ]
  },
  {
   "cell_type": "markdown",
   "id": "2a0cab46-1209-4c62-a030-1659085b45a2",
   "metadata": {},
   "source": [
    "---"
   ]
  },
  {
   "cell_type": "code",
   "execution_count": 116,
   "id": "d560b356-7c81-43b4-9301-76ef3e233f28",
   "metadata": {},
   "outputs": [
    {
     "name": "stdout",
     "output_type": "stream",
     "text": [
      "Epoch 1/10\n",
      "275/275 [==============================] - 8s 29ms/step - loss: 0.1811 - accuracy: 0.9322\n",
      "Epoch 2/10\n",
      "275/275 [==============================] - 8s 29ms/step - loss: 0.1520 - accuracy: 0.9440\n",
      "Epoch 3/10\n",
      "275/275 [==============================] - 8s 29ms/step - loss: 0.1595 - accuracy: 0.9390\n",
      "Epoch 4/10\n",
      "275/275 [==============================] - 8s 30ms/step - loss: 0.1336 - accuracy: 0.9522\n",
      "Epoch 5/10\n",
      "275/275 [==============================] - 8s 30ms/step - loss: 0.1281 - accuracy: 0.9525\n",
      "Epoch 6/10\n",
      "275/275 [==============================] - 8s 29ms/step - loss: 0.1360 - accuracy: 0.9482\n",
      "Epoch 7/10\n",
      "275/275 [==============================] - 8s 29ms/step - loss: 0.1335 - accuracy: 0.9508\n",
      "Epoch 8/10\n",
      "275/275 [==============================] - 8s 29ms/step - loss: 0.1288 - accuracy: 0.9503\n",
      "Epoch 9/10\n",
      "275/275 [==============================] - 8s 30ms/step - loss: 0.1306 - accuracy: 0.9480\n",
      "Epoch 10/10\n",
      "275/275 [==============================] - 8s 29ms/step - loss: 0.1554 - accuracy: 0.9414\n"
     ]
    },
    {
     "data": {
      "text/plain": [
       "<keras.callbacks.History at 0x7fde9060ee00>"
      ]
     },
     "execution_count": 116,
     "metadata": {},
     "output_type": "execute_result"
    }
   ],
   "source": [
    "model.fit(x_train,y_train, epochs=10, batch_size=32, verbose=1)"
   ]
  },
  {
   "cell_type": "code",
   "execution_count": 117,
   "id": "6ce39fbe-b315-4987-9cf5-2e206a595ce5",
   "metadata": {},
   "outputs": [
    {
     "name": "stdout",
     "output_type": "stream",
     "text": [
      "69/69 [==============================] - 1s 12ms/step\n",
      "0.9960997\n"
     ]
    }
   ],
   "source": [
    "y_prob = model.predict(x_test)\n",
    "print(y_prob.max())"
   ]
  },
  {
   "cell_type": "code",
   "execution_count": 119,
   "id": "9a06bc84-978f-4423-8bbe-88edd72f128f",
   "metadata": {},
   "outputs": [
    {
     "name": "stdout",
     "output_type": "stream",
     "text": [
      "              precision    recall  f1-score   support\n",
      "\n",
      "           0       0.98      0.96      0.97      1200\n",
      "           1       0.95      0.97      0.96      1000\n",
      "\n",
      "    accuracy                           0.96      2200\n",
      "   macro avg       0.96      0.96      0.96      2200\n",
      "weighted avg       0.96      0.96      0.96      2200\n",
      "\n",
      "[[1148   52]\n",
      " [  28  972]]\n"
     ]
    }
   ],
   "source": [
    "y_pred = list(map(lambda x: x>0.5,y_prob))\n",
    "\n",
    "import pandas as pd\n",
    "print(classification_report(y_test,y_pred))\n",
    "cm = confusion_matrix(y_test,y_pred)\n",
    "print(cm)"
   ]
  },
  {
   "cell_type": "code",
   "execution_count": null,
   "id": "7329cc9b-f9ac-494e-907f-ae98de70a4db",
   "metadata": {},
   "outputs": [],
   "source": []
  },
  {
   "cell_type": "code",
   "execution_count": null,
   "id": "68a89a91-36d1-453e-9fce-b2d2f41448e9",
   "metadata": {},
   "outputs": [],
   "source": []
  },
  {
   "cell_type": "code",
   "execution_count": 23,
   "id": "5dd3507f-ac4d-4802-9065-0f4780edaff8",
   "metadata": {},
   "outputs": [],
   "source": [
    "#x_train, y_train = None,None"
   ]
  },
  {
   "cell_type": "markdown",
   "id": "34484304-4d3d-4756-aa59-6c4107ae1c32",
   "metadata": {},
   "source": [
    "---"
   ]
  },
  {
   "cell_type": "markdown",
   "id": "247d40be-d6fe-4c69-bba9-db9dd246f0bd",
   "metadata": {
    "jp-MarkdownHeadingCollapsed": true
   },
   "source": [
    "## Validation"
   ]
  },
  {
   "cell_type": "code",
   "execution_count": 24,
   "id": "220e12ae-3064-4160-ae24-edb17801cf52",
   "metadata": {},
   "outputs": [],
   "source": [
    "x_valid = np.load(\"x_test_data_random_y.npz\")['arr_0']\n",
    "y_valid = np.load(\"y_test_data_random_y.npz\")['arr_0']\n",
    "y = (y_valid==True).astype(int)"
   ]
  },
  {
   "cell_type": "code",
   "execution_count": 25,
   "id": "131849c9-6392-4ba9-83ac-0338f8f845cc",
   "metadata": {},
   "outputs": [
    {
     "name": "stdout",
     "output_type": "stream",
     "text": [
      "79/79 [==============================] - 0s 5ms/step\n",
      "0.99989355\n"
     ]
    }
   ],
   "source": [
    "y_prob = model.predict(x_valid)\n",
    "print(y_prob.max())\n",
    "y_pred = list(map(lambda x: x>0.5,y_prob))"
   ]
  },
  {
   "cell_type": "code",
   "execution_count": 26,
   "id": "c0727714-1830-4d12-bf09-2b4a5638d672",
   "metadata": {},
   "outputs": [
    {
     "name": "stdout",
     "output_type": "stream",
     "text": [
      "              precision    recall  f1-score   support\n",
      "\n",
      "       False       0.92      0.95      0.94      2000\n",
      "        True       0.79      0.69      0.73       500\n",
      "\n",
      "    accuracy                           0.90      2500\n",
      "   macro avg       0.86      0.82      0.84      2500\n",
      "weighted avg       0.90      0.90      0.90      2500\n",
      "\n",
      "[[1908   92]\n",
      " [ 157  343]]\n"
     ]
    }
   ],
   "source": [
    "print(classification_report(y_valid,y_pred))\n",
    "cm = confusion_matrix(y_valid,y_pred)\n",
    "print(cm)\n",
    "x_valid,y_valid = None,None"
   ]
  },
  {
   "cell_type": "code",
   "execution_count": 16,
   "id": "f80eec20-8c46-4224-ae3e-b75110055d07",
   "metadata": {},
   "outputs": [],
   "source": [
    "#model.save_weights('models/RACMCA2')"
   ]
  },
  {
   "cell_type": "code",
   "execution_count": null,
   "id": "b7e83fe7-8108-4bbb-b240-4568f37225e4",
   "metadata": {},
   "outputs": [],
   "source": []
  },
  {
   "cell_type": "code",
   "execution_count": null,
   "id": "75862fc9-d8f8-4c3b-924b-1547a154fb21",
   "metadata": {},
   "outputs": [],
   "source": []
  },
  {
   "cell_type": "code",
   "execution_count": null,
   "id": "ca19dae2-ccd6-440b-a0cd-ede6d6ff1cfb",
   "metadata": {},
   "outputs": [],
   "source": []
  },
  {
   "cell_type": "code",
   "execution_count": null,
   "id": "6e67540f-049d-4fbb-a21a-9beffe565800",
   "metadata": {},
   "outputs": [],
   "source": []
  },
  {
   "cell_type": "code",
   "execution_count": null,
   "id": "1b4203a1-5415-475c-a66f-41305d70aad2",
   "metadata": {},
   "outputs": [],
   "source": []
  },
  {
   "cell_type": "code",
   "execution_count": null,
   "id": "fdbbd1c9-5421-44ae-b362-5f098c4081e8",
   "metadata": {},
   "outputs": [],
   "source": []
  },
  {
   "cell_type": "code",
   "execution_count": null,
   "id": "8fc9206d-7380-464a-8548-b4da8fafa3ab",
   "metadata": {},
   "outputs": [],
   "source": [
    "y_pred = list(map(lambda x: x>0.5,y_prob))\n",
    "\n",
    "import pandas as pd\n",
    "print(classification_report(y_test,y_pred))\n",
    "cm = confusion_matrix(y_test,y_pred)\n",
    "col = ['N','Y']\n",
    "print(pd.DataFrame(cm,index=col,columns = col))"
   ]
  },
  {
   "cell_type": "code",
   "execution_count": null,
   "id": "34c4b61e-cb51-440a-9599-10b13a4eab0d",
   "metadata": {},
   "outputs": [],
   "source": []
  },
  {
   "cell_type": "code",
   "execution_count": null,
   "id": "de6f57c3-eb77-4e7b-b879-1961149e63df",
   "metadata": {},
   "outputs": [],
   "source": []
  },
  {
   "cell_type": "code",
   "execution_count": null,
   "id": "1146b1a3-9b3f-4746-88c2-1e3e4bc09c8c",
   "metadata": {},
   "outputs": [],
   "source": []
  },
  {
   "cell_type": "code",
   "execution_count": null,
   "id": "0fa3c640-3d29-4d6b-bd9d-f4399cd6a09b",
   "metadata": {},
   "outputs": [],
   "source": [
    "y_test[0:5]"
   ]
  },
  {
   "cell_type": "code",
   "execution_count": null,
   "id": "eac5d2ab-4a9d-4f96-b229-6fd91daccc52",
   "metadata": {},
   "outputs": [],
   "source": [
    "y_pred[:5]"
   ]
  },
  {
   "cell_type": "code",
   "execution_count": null,
   "id": "a0c89023-7bb5-4fa2-90c8-334383794901",
   "metadata": {},
   "outputs": [],
   "source": []
  },
  {
   "cell_type": "code",
   "execution_count": null,
   "id": "c8eea5c4-0789-4c51-aa20-1a04e8134ac6",
   "metadata": {},
   "outputs": [],
   "source": []
  },
  {
   "cell_type": "code",
   "execution_count": null,
   "id": "19e3783d-850f-4b64-950c-b3f4d68db461",
   "metadata": {},
   "outputs": [],
   "source": []
  },
  {
   "cell_type": "code",
   "execution_count": null,
   "id": "52b491fc-4d6c-4898-b567-0856ee1b17b2",
   "metadata": {},
   "outputs": [],
   "source": [
    "plt.imshow(x_test[0])"
   ]
  },
  {
   "cell_type": "code",
   "execution_count": null,
   "id": "38192a58-08d8-491a-9d86-0ff6e5ec2689",
   "metadata": {},
   "outputs": [],
   "source": [
    "plt.imshow(x_test[1])"
   ]
  },
  {
   "cell_type": "code",
   "execution_count": null,
   "id": "a1bcbb31-23e4-4621-a5ad-b5686adfc370",
   "metadata": {},
   "outputs": [],
   "source": [
    "plt.imshow(x_test[2])"
   ]
  },
  {
   "cell_type": "code",
   "execution_count": null,
   "id": "9b2a88ed-9669-4997-8c93-74a9fbf03532",
   "metadata": {},
   "outputs": [],
   "source": [
    "plt.imshow(x_test[3])"
   ]
  },
  {
   "cell_type": "code",
   "execution_count": null,
   "id": "2e758c3e-4783-4df6-b56c-be19b0b6065b",
   "metadata": {},
   "outputs": [],
   "source": [
    "plt.imshow(x_test[4])"
   ]
  },
  {
   "cell_type": "code",
   "execution_count": null,
   "id": "c659af1c-7aa5-44f5-829f-3577a9b089c5",
   "metadata": {},
   "outputs": [],
   "source": []
  },
  {
   "cell_type": "code",
   "execution_count": null,
   "id": "4104d93d-739d-4782-993f-ec0ac52baa9d",
   "metadata": {},
   "outputs": [],
   "source": []
  }
 ],
 "metadata": {
  "kernelspec": {
   "display_name": "Python 3 (ipykernel)",
   "language": "python",
   "name": "python3"
  },
  "language_info": {
   "codemirror_mode": {
    "name": "ipython",
    "version": 3
   },
   "file_extension": ".py",
   "mimetype": "text/x-python",
   "name": "python",
   "nbconvert_exporter": "python",
   "pygments_lexer": "ipython3",
   "version": "3.10.11"
  }
 },
 "nbformat": 4,
 "nbformat_minor": 5
}
