{
 "cells": [
  {
   "cell_type": "code",
   "execution_count": 1,
   "id": "1ca7ed14-8583-4fa8-9256-986d7397c17d",
   "metadata": {},
   "outputs": [],
   "source": [
    "import os\n",
    "import jh_utils \n",
    "import shutil\n",
    "from jh_utils.utils.mensages import attention, get_line"
   ]
  },
  {
   "cell_type": "code",
   "execution_count": 2,
   "id": "cea93d3c-2d33-4465-a56c-214e2b54f194",
   "metadata": {},
   "outputs": [],
   "source": [
    "shutil.rmtree('csvs')\n",
    "shutil.rmtree('images')"
   ]
  },
  {
   "cell_type": "code",
   "execution_count": 3,
   "id": "676b2ef1-015d-46cc-a03a-cd5531a78d17",
   "metadata": {},
   "outputs": [],
   "source": [
    "os.mkdir('csvs')\n",
    "os.mkdir('images')"
   ]
  },
  {
   "cell_type": "code",
   "execution_count": 8,
   "id": "1e7e1e40-618a-4ad4-8d55-0525dbbeff2b",
   "metadata": {},
   "outputs": [
    {
     "name": "stderr",
     "output_type": "stream",
     "text": [
      "/usr/bin/bash: /home/joaoholz/miniconda3/envs/tf/lib/libtinfo.so.6: no version information available (required by /usr/bin/bash)\n",
      "Traceback (most recent call last):\n",
      "  File \"/home/joaoholz/Documents/ufes/tcc_gambi/make_csv_npz.py\", line 1, in <module>\n",
      "    from jh_utils.utils.os import ls\n",
      "ModuleNotFoundError: No module named 'jh_utils'\n",
      "\n",
      "ERROR conda.cli.main_run:execute(49): `conda run python make_csv_npz.py` failed. (See above for error)\n"
     ]
    }
   ],
   "source": [
    "import subprocess\n",
    "process = subprocess.Popen(\n",
    "    \"conda run -n tcc_gambi python make_csv_npz.py\".split(), stdout=subprocess.PIPE\n",
    ")\n",
    "output, error = process.communicate()"
   ]
  },
  {
   "cell_type": "code",
   "execution_count": 32,
   "id": "fa181959-74f9-4421-b485-6dc621dc6074",
   "metadata": {},
   "outputs": [
    {
     "name": "stdout",
     "output_type": "stream",
     "text": [
      "0\n",
      "100\n",
      "200\n",
      "300\n",
      "400\n",
      "500\n",
      "600\n",
      "700\n",
      "800\n",
      "900\n",
      "1000\n",
      "1100\n",
      "1200\n",
      "1300\n",
      "1400\n",
      "1500\n",
      "1600\n",
      "1700\n",
      "1800\n",
      "1900\n",
      "2000\n",
      "2100\n",
      "2200\n",
      "2300\n",
      "2400\n",
      "2500\n",
      "2600\n",
      "2700\n",
      "2800\n",
      "2900\n",
      "3000\n",
      "3100\n",
      "3200\n",
      "3300\n",
      "3400\n",
      "3500\n",
      "3600\n",
      "3700\n",
      "3800\n",
      "3900\n",
      "4000\n",
      "4100\n",
      "4200\n",
      "4300\n",
      "4400\n",
      "4500\n",
      "4600\n",
      "4700\n",
      "4800\n",
      "4900\n",
      "5000\n",
      "5100\n",
      "5200\n",
      "5300\n",
      "5400\n",
      "5500\n",
      "5600\n",
      "5700\n",
      "5800\n",
      "5900\n",
      "6000\n",
      "6100\n",
      "6200\n",
      "6300\n",
      "6400\n",
      "6500\n",
      "6600\n",
      "6700\n",
      "6800\n",
      "6900\n",
      "7000\n",
      "7100\n",
      "7200\n",
      "7300\n",
      "7400\n",
      "7500\n",
      "7600\n",
      "7700\n",
      "7800\n",
      "7900\n",
      "8000\n"
     ]
    },
    {
     "data": {
      "text/plain": [
       "0"
      ]
     },
     "execution_count": 32,
     "metadata": {},
     "output_type": "execute_result"
    }
   ],
   "source": [
    "os.system('python make_image_npz.py')"
   ]
  },
  {
   "cell_type": "code",
   "execution_count": 24,
   "id": "350ca98f-8195-455e-9621-52daa9ea58da",
   "metadata": {},
   "outputs": [
    {
     "name": "stderr",
     "output_type": "stream",
     "text": [
      "sh: 1: Rscript: not found\n",
      "Traceback (most recent call last):\n",
      "  File \"/home/joaoholz/Documents/ufes/tcc_gambi/make_csv_npz.py\", line 34, in <module>\n",
      "    transform_csvs_to_numpy_npzfile()\n",
      "  File \"/home/joaoholz/Documents/ufes/tcc_gambi/make_csv_npz.py\", line 18, in transform_csvs_to_numpy_npzfile\n",
      "    x_numpy = [cv2.imread(x_filepath[0],0),cv2.imread(x_filepath[1],0)]\n",
      "IndexError: list index out of range\n",
      "sh: 1: Rscript: not found\n",
      "Traceback (most recent call last):\n",
      "  File \"/home/joaoholz/Documents/ufes/tcc_gambi/make_image_npz.py\", line 33, in <module>\n",
      "    transform_images_to_numpy_npzfile()\n",
      "  File \"/home/joaoholz/Documents/ufes/tcc_gambi/make_image_npz.py\", line 18, in transform_images_to_numpy_npzfile\n",
      "    x_numpy = [cv2.imread(x_filepath[0],0),cv2.imread(x_filepath[1],0)]\n",
      "IndexError: list index out of range\n"
     ]
    },
    {
     "data": {
      "text/plain": [
       "256"
      ]
     },
     "execution_count": 24,
     "metadata": {},
     "output_type": "execute_result"
    }
   ],
   "source": [
    "os.system('Rscript main_csvs.r')\n",
    "os.system('python make_csv_npz.py')"
   ]
  },
  {
   "cell_type": "code",
   "execution_count": null,
   "id": "b6bdb6d2-40ae-4d6a-b084-b79b332d71e3",
   "metadata": {},
   "outputs": [],
   "source": []
  }
 ],
 "metadata": {
  "kernelspec": {
   "display_name": "Python 3 (ipykernel)",
   "language": "python",
   "name": "python3"
  },
  "language_info": {
   "codemirror_mode": {
    "name": "ipython",
    "version": 3
   },
   "file_extension": ".py",
   "mimetype": "text/x-python",
   "name": "python",
   "nbconvert_exporter": "python",
   "pygments_lexer": "ipython3",
   "version": "3.10.11"
  }
 },
 "nbformat": 4,
 "nbformat_minor": 5
}
