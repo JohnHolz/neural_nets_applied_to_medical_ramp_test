{
 "cells": [
  {
   "cell_type": "code",
   "execution_count": 9,
   "id": "dcaf9438-722f-4d8b-b38f-815137a655b9",
   "metadata": {},
   "outputs": [],
   "source": [
    "from jh_utils.utils.os import ls\n",
    "import numpy as np, cv2"
   ]
  },
  {
   "cell_type": "code",
   "execution_count": 10,
   "id": "004a95fe-aff5-4d08-b4b2-b416acb65a62",
   "metadata": {},
   "outputs": [],
   "source": [
    "def check_name(x):\n",
    "    a = '_1_' in x \n",
    "    return a\n",
    "    #list(map(check_name,ls('ruidos')))\n",
    "\n",
    "def make_path_with_folder(x_filepath):\n",
    "    return \"images/\"+x_filepath"
   ]
  },
  {
   "cell_type": "code",
   "execution_count": 11,
   "id": "f0733926-8172-4998-a0b7-dbad4f799960",
   "metadata": {},
   "outputs": [],
   "source": [
    "x_filepath = ls('images')\n",
    "x_filepath = list(map(make_path_with_folder,x_filepath))\n",
    "y_label = list(map(check_name, x_filepath))"
   ]
  },
  {
   "cell_type": "markdown",
   "id": "cccde32c-bf53-495b-8cac-b752884e06b2",
   "metadata": {},
   "source": [
    "---"
   ]
  },
  {
   "cell_type": "code",
   "execution_count": 12,
   "id": "a51662d1-6c10-48ed-aeb7-ef1315bb4dbe",
   "metadata": {},
   "outputs": [],
   "source": [
    "count = 0\n",
    "x_numpy = [cv2.imread(x_filepath[0],0),cv2.imread(x_filepath[1],0)]"
   ]
  },
  {
   "cell_type": "code",
   "execution_count": 13,
   "id": "2465a64c-9af2-4faa-b59e-bc4931bae8b6",
   "metadata": {},
   "outputs": [
    {
     "data": {
      "text/plain": [
       "(360, 360)"
      ]
     },
     "execution_count": 13,
     "metadata": {},
     "output_type": "execute_result"
    }
   ],
   "source": [
    "x_numpy[0].shape"
   ]
  },
  {
   "cell_type": "code",
   "execution_count": 14,
   "id": "05290e32-292c-4f0f-a49c-0ef845c57b8c",
   "metadata": {
    "scrolled": true
   },
   "outputs": [
    {
     "name": "stdout",
     "output_type": "stream",
     "text": [
      "0\n",
      "100\n",
      "200\n",
      "300\n",
      "400\n",
      "500\n",
      "600\n",
      "700\n",
      "800\n",
      "900\n",
      "1000\n",
      "1100\n",
      "1200\n",
      "1300\n",
      "1400\n",
      "1500\n",
      "1600\n",
      "1700\n",
      "1800\n",
      "1900\n",
      "2000\n",
      "2100\n",
      "2200\n",
      "2300\n",
      "2400\n",
      "2500\n",
      "2600\n",
      "2700\n",
      "2800\n",
      "2900\n",
      "3000\n",
      "3100\n",
      "3200\n",
      "3300\n",
      "3400\n",
      "3500\n",
      "3600\n",
      "3700\n",
      "3800\n",
      "3900\n",
      "4000\n",
      "4100\n",
      "4200\n",
      "4300\n",
      "4400\n",
      "4500\n",
      "4600\n",
      "4700\n",
      "4800\n",
      "4900\n",
      "5000\n",
      "5100\n",
      "5200\n",
      "5300\n",
      "5400\n",
      "5500\n",
      "5600\n",
      "5700\n",
      "5800\n",
      "5900\n",
      "6000\n",
      "6100\n",
      "6200\n",
      "6300\n",
      "6400\n",
      "6500\n",
      "6600\n",
      "6700\n",
      "6800\n",
      "6900\n",
      "7000\n",
      "7100\n",
      "7200\n",
      "7300\n",
      "7400\n"
     ]
    }
   ],
   "source": [
    "for i in x_filepath[2:]:\n",
    "    x_numpy.append(cv2.imread(i,0))\n",
    "    if (count % 100) == 0:\n",
    "        print(count)\n",
    "    count+=1"
   ]
  },
  {
   "cell_type": "code",
   "execution_count": 15,
   "id": "d95bc91b-f767-4030-8575-7b7f378ce8a5",
   "metadata": {},
   "outputs": [
    {
     "data": {
      "text/plain": [
       "7500"
      ]
     },
     "execution_count": 15,
     "metadata": {},
     "output_type": "execute_result"
    }
   ],
   "source": [
    "len(x_numpy)"
   ]
  },
  {
   "cell_type": "code",
   "execution_count": 16,
   "id": "8c0da00d-270d-4540-99a0-77e28b5f097f",
   "metadata": {},
   "outputs": [],
   "source": [
    "x_numpy = np.array(x_numpy)"
   ]
  },
  {
   "cell_type": "code",
   "execution_count": 17,
   "id": "1c6528ca-bd40-4af1-8966-d971d52056a7",
   "metadata": {},
   "outputs": [
    {
     "data": {
      "text/plain": [
       "(7500, 360, 360)"
      ]
     },
     "execution_count": 17,
     "metadata": {},
     "output_type": "execute_result"
    }
   ],
   "source": [
    "x_numpy.shape"
   ]
  },
  {
   "cell_type": "code",
   "execution_count": 18,
   "id": "1b8e9532-01ee-4392-867e-3094b4949dba",
   "metadata": {},
   "outputs": [],
   "source": [
    "np.savez('x_data_random_y',x_numpy)\n",
    "np.savez('y_data_random_y',y_label)"
   ]
  },
  {
   "cell_type": "markdown",
   "id": "418c4811-ce00-49ae-869a-2a195d5fb337",
   "metadata": {},
   "source": [
    "----"
   ]
  }
 ],
 "metadata": {
  "kernelspec": {
   "display_name": "Python 3 (ipykernel)",
   "language": "python",
   "name": "python3"
  },
  "language_info": {
   "codemirror_mode": {
    "name": "ipython",
    "version": 3
   },
   "file_extension": ".py",
   "mimetype": "text/x-python",
   "name": "python",
   "nbconvert_exporter": "python",
   "pygments_lexer": "ipython3",
   "version": "3.10.11"
  }
 },
 "nbformat": 4,
 "nbformat_minor": 5
}
